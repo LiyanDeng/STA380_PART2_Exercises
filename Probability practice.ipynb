{
 "cells": [
  {
   "cell_type": "markdown",
   "id": "058a40f2",
   "metadata": {},
   "source": [
    "# Probability Practice"
   ]
  },
  {
   "cell_type": "markdown",
   "id": "8619fb5c",
   "metadata": {},
   "source": [
    "## <span style=\"color:#1F618D\">PART A</span>\n",
    "\n",
    "#### <span style=\"color:#1F618D\">Visitors to your website are asked to answer a single survey question before they get access to the content on the page. Among all of the users, there are two categories: Random Clicker (RC), and Truthful Clicker (TC). There are two possible answers to the survey: yes and no. Random clickers would click either one with equal probability. You are also giving the information that the expected fraction of random clickers is 0.3. After a trial period, you get the following survey results: 65% said Yes and 35% said No. What fraction of people who are truthful clickers answered yes? Hint: use the rule of total probability.</span>"
   ]
  },
  {
   "cell_type": "markdown",
   "id": "f1bd10ca",
   "metadata": {},
   "source": [
    "##### Known Information:\n",
    "\\begin{array}{c@{\\hskip 1in}c@{\\hskip 1in}c}\n",
    "    P(\\text{RC}) = 0.3 & P(\\text{TC}) = 0.7 & \\\\\n",
    "    P(\\text{Yes}|\\text{RC}) = 0.5 & P(\\text{No}|\\text{RC}) = 0.5 & \\\\\n",
    "    P(\\text{Yes}) = 0.65 & P(\\text{No}) = 0.35 & \\\\\n",
    "\\end{array}\n"
   ]
  },
  {
   "cell_type": "markdown",
   "id": "12f40905",
   "metadata": {},
   "source": [
    "###### Implied information: \n",
    "\n",
    "\\begin{array}{c@{\\hskip 1in}c@{\\hskip 1in}c}\n",
    "    P(\\text{Yes}) = P(\\text{RC, Yes}) + P(\\text{TC, Yes}) = 0.65 & \\\\\n",
    "    P(\\text{No}) = P(\\text{RC, No}) + P(\\text{TC, No}) = 0.35 & \\\\\n",
    "\\end{array}<br>\n",
    "\\begin{array}{c@{\\hskip 1in}c@{\\hskip 1in}c}\n",
    "    P(\\text{RC, Yes}) = P(\\text{RC}) \\times P(\\text{RC|Yes}) = 0.3 \\times 0.5 = 0.15 & \\\\\n",
    "\\end{array}"
   ]
  },
  {
   "cell_type": "markdown",
   "id": "80c22ac7",
   "metadata": {},
   "source": [
    "##### Thus:\n",
    "\\begin{array}{c@{\\hskip 1in}c@{\\hskip 1in}c}\n",
    "    P(\\text{TC, Yes}) = P(\\text{Yes}) - P(\\text{RC, Yes})  = 0.65 - 0.15 = 0.5 & \\\\\n",
    "\\end{array}<br>\n",
    "\\begin{array}{c@{\\hskip 1in}c@{\\hskip 1in}c}\n",
    "    P(\\text{Yes|TC}) = \\frac{P(\\text{TC, Yes})}{P(\\text{Yes})} = \\frac{0.5}{0.7} = 71.4286\\% & \\\\\n",
    "    P(\\text{No|TC}) = 1- P(\\text{Yes|TC}) = \\frac{0.5}{0.7} = 1 - 0.714286 = 28.5714\\% & \\\\\n",
    "\\end{array}"
   ]
  },
  {
   "cell_type": "markdown",
   "id": "e3ebb39a",
   "metadata": {},
   "source": [
    "#### 71.4286% of the truthful clickers answered \"Yes\" and 28.5714% of them answered \"No\". <br>"
   ]
  },
  {
   "cell_type": "markdown",
   "id": "a7c0fe84",
   "metadata": {},
   "source": [
    "## <span style=\"color:#1F618D\">PART B</span>\n",
    "#### <span style=\"color:#1F618D\"> Imagine a medical test for a disease with the following two attributes: </span>\n",
    " - #### <span style=\"color:#1F618D\">The sensitivity is about 0.993. That is, if someone has the disease, there is a probability of 0.993 that they will test positive.</span>\n",
    " - #### <span style=\"color:#1F618D\">The specificity is about 0.9999. This means that if someone doesn't have the disease, there is probability of 0.9999 that they will test negative.</span>\n",
    " - #### <span style=\"color:#1F618D\">In the general population, incidence of the disease is reasonably rare: about 0.0025% of all people have it (or 0.000025 as a decimal probability).</span>\n",
    " \n",
    "#### <span style=\"color:#1F618D\">Suppose someone tests positive. What is the probability that they have the disease?</span>"
   ]
  },
  {
   "cell_type": "markdown",
   "id": "c13f4d1a",
   "metadata": {},
   "source": [
    "##### Known Information:\n",
    "\\begin{array}{c@{\\hskip 1in}c@{\\hskip 1in}c}\n",
    "    P(\\text{Has Disease}) = 0.000025 & P(\\text{No Disease}) = 0.999975 & \\\\\n",
    "    P(\\text{Positive}|\\text{Has Disease}) = 0.993 & P(\\text{Negative}|\\text{No Disease}) = 0.9999 & \\\\\n",
    "\\end{array}\n"
   ]
  },
  {
   "cell_type": "markdown",
   "id": "fadeca84",
   "metadata": {},
   "source": [
    "###### Implied information: \n",
    "\\begin{array}{c@{\\hskip 1in}c@{\\hskip 1in}c}\n",
    "    P(\\text{Positive}|\\text{No Disease}) = 1-0.9999 = 0.0001 & \\\\\n",
    "\\end{array}\n",
    "\n",
    "\\begin{array}{c@{\\hskip 1in}c@{\\hskip 1in}c}\n",
    "    P(\\text{Has Disease, Positive}) = P(\\text{Has Disease}) \\times P(\\text{Positive|Has Disease}) = 0.000025 \\times 0.993 = 0.000024825 & \\\\\n",
    "    P(\\text{No Disease, Positive}) = P(\\text{No Disease}) \\times P(\\text{Positive|No Disease}) = 0.999975 \\times 0.0001 = 0.0000999975 & \\\\\n",
    "\\end{array}\n",
    "\n",
    "\\begin{array}{c@{\\hskip 1in}c@{\\hskip 1in}c}\n",
    "    P(\\text{Positive}) = P(\\text{Has Disease, Positive}) + P(\\text{No Disease, Positive}) = 0.000024825 + 0.0000999975 = 0.0001248225 & \\\\\n",
    "\\end{array}<br>"
   ]
  },
  {
   "cell_type": "markdown",
   "id": "1aa9cc27",
   "metadata": {},
   "source": [
    "##### Thus:\n",
    "\\begin{array}{c@{\\hskip 1in}c@{\\hskip 1in}c}\n",
    "    P(\\text{TC, Yes}) = P(\\text{Yes}) - P(\\text{RC, Yes})  = 0.65 - 0.15 = 0.5 & \\\\\n",
    "\\end{array}<br>\n",
    "\\begin{array}{c@{\\hskip 1in}c@{\\hskip 1in}c}\n",
    "    P(\\text{Has Disease|Positive}) = \\frac{P(\\text{Has Disease, Positive})}{P(\\text{Positive})} = \\frac{0.000024825}{0.0001248225} = 19.8882\\% & \\\\\n",
    "\\end{array}"
   ]
  },
  {
   "cell_type": "markdown",
   "id": "d4f4be62",
   "metadata": {},
   "source": [
    "#### The probability of someone having the disease given that they have tested positive is 19.8882%. <br><br><br>"
   ]
  }
 ],
 "metadata": {
  "kernelspec": {
   "display_name": "Python 3 (ipykernel)",
   "language": "python",
   "name": "python3"
  },
  "language_info": {
   "codemirror_mode": {
    "name": "ipython",
    "version": 3
   },
   "file_extension": ".py",
   "mimetype": "text/x-python",
   "name": "python",
   "nbconvert_exporter": "python",
   "pygments_lexer": "ipython3",
   "version": "3.9.13"
  }
 },
 "nbformat": 4,
 "nbformat_minor": 5
}
